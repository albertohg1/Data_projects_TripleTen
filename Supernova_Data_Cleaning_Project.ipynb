{
  "nbformat": 4,
  "nbformat_minor": 0,
  "metadata": {
    "colab": {
      "provenance": [],
      "authorship_tag": "ABX9TyPoOwu4nvQPcYegjUvcDYjq",
      "include_colab_link": true
    },
    "kernelspec": {
      "name": "python3",
      "display_name": "Python 3"
    },
    "language_info": {
      "name": "python"
    }
  },
  "cells": [
    {
      "cell_type": "markdown",
      "metadata": {
        "id": "view-in-github",
        "colab_type": "text"
      },
      "source": [
        "<a href=\"https://colab.research.google.com/github/albertohg1/Data_projects_TripleTen/blob/main/Supernova_Data_Cleaning_Project.ipynb\" target=\"_parent\"><img src=\"https://colab.research.google.com/assets/colab-badge.svg\" alt=\"Open In Colab\"/></a>"
      ]
    },
    {
      "cell_type": "markdown",
      "source": [
        "# Supernova Data Cleaning Project - Google Colab Notebook"
      ],
      "metadata": {
        "id": "Y0Hkdbf1yRu0"
      }
    },
    {
      "cell_type": "markdown",
      "source": [
        "## Step 1: Mount Google Drive\n",
        "Mounting Google Drive to access the raw dataset stored in a specific folder."
      ],
      "metadata": {
        "id": "MjiEWKUkyVTn"
      }
    },
    {
      "cell_type": "code",
      "source": [
        "from google.colab import drive\n",
        "drive.mount('/content/drive')"
      ],
      "metadata": {
        "colab": {
          "base_uri": "https://localhost:8080/"
        },
        "id": "GXWtYjoOyaeI",
        "outputId": "14fd40d8-b9d4-4660-ec33-2438f14cfa9b"
      },
      "execution_count": 2,
      "outputs": [
        {
          "output_type": "stream",
          "name": "stdout",
          "text": [
            "Mounted at /content/drive\n"
          ]
        }
      ]
    },
    {
      "cell_type": "markdown",
      "source": [
        "## Step 2: Load and Preview the Dataset\n",
        "We load the raw dataset from Google Drive and display the first few rows to confirm that the correct file has been loaded."
      ],
      "metadata": {
        "id": "zpcE9Xilyyij"
      }
    },
    {
      "cell_type": "code",
      "source": [
        "import pandas as pd"
      ],
      "metadata": {
        "id": "sPIylGOAy06T"
      },
      "execution_count": 3,
      "outputs": []
    },
    {
      "cell_type": "code",
      "source": [
        "file_path = '/content/drive/MyDrive/TripleTen/Externship -- Supernova/raw_data.csv'\n",
        "df = pd.read_csv(file_path)\n",
        "df.head()"
      ],
      "metadata": {
        "colab": {
          "base_uri": "https://localhost:8080/",
          "height": 273
        },
        "id": "Vpjk3vxdy3Dl",
        "outputId": "bfab9984-c928-4672-8176-78a83eb73e83"
      },
      "execution_count": 4,
      "outputs": [
        {
          "output_type": "execute_result",
          "data": {
            "text/plain": [
              "  insured_address_state  Industry Code     Category  input_gl_revenue  \\\n",
              "0               Ontario           5312       Retail           1000000   \n",
              "1               Ontario           5312       Retail            350000   \n",
              "2               Ontario           5811  Hospitality            333333   \n",
              "3               Ontario           5811  Hospitality            300000   \n",
              "4               Ontario           5811  Hospitality            300000   \n",
              "\n",
              "   input_gl_employee  input_gl_gl_limit  input_gl_gl_deductible  \\\n",
              "0                 26            2000000                    1000   \n",
              "1                 26            2000000                    1000   \n",
              "2                  1            1000000                    1000   \n",
              "3                  1            2000000                    1000   \n",
              "4                  2            2000000                    1000   \n",
              "\n",
              "   input_property_bldg_limit  input_property_num_claims  \\\n",
              "0                          0                          0   \n",
              "1                          0                          0   \n",
              "2                          0                          0   \n",
              "3                          0                          0   \n",
              "4                          0                          0   \n",
              "\n",
              "   input_property_town_grade  ...  output_premium_bldg_premium  \\\n",
              "0                          3  ...                            0   \n",
              "1                          3  ...                            0   \n",
              "2                          3  ...                            0   \n",
              "3                          4  ...                            0   \n",
              "4                          3  ...                            0   \n",
              "\n",
              "   output_premium_flood_premium  output_premium_content_premium  \\\n",
              "0                          0.00                          430.56   \n",
              "1                          0.00                         1257.24   \n",
              "2                          3.17                          249.33   \n",
              "3                          0.00                          249.33   \n",
              "4                          0.00                          223.40   \n",
              "\n",
              "   output_premium_on_prem_gl_prem  output_premium_products_gl_prem  \\\n",
              "0                         2668.00                              0.0   \n",
              "1                          933.80                              0.0   \n",
              "2                         1866.66                              0.0   \n",
              "3                         1932.00                              0.0   \n",
              "4                         1932.00                              0.0   \n",
              "\n",
              "   output_premium_business_interuption_prem  output_premium_total_total_prem  \\\n",
              "0                                    430.56                          4618.39   \n",
              "1                                    110.01                          3666.13   \n",
              "2                                    831.10                          3054.95   \n",
              "3                                    747.99                          3033.94   \n",
              "4                                    239.36                          2575.83   \n",
              "\n",
              "   output_debug_sd_factor_bi  output_debug_sd_factor_gl  \\\n",
              "0                        1.0                        1.0   \n",
              "1                        1.0                        1.0   \n",
              "2                        1.0                        1.0   \n",
              "3                        1.0                        1.0   \n",
              "4                        1.0                        1.0   \n",
              "\n",
              "   output_debug_sd_factor_prop  \n",
              "0                          1.0  \n",
              "1                          1.0  \n",
              "2                          1.0  \n",
              "3                          1.0  \n",
              "4                          1.0  \n",
              "\n",
              "[5 rows x 27 columns]"
            ],
            "text/html": [
              "\n",
              "  <div id=\"df-82abd244-c5e5-4ea4-971b-a936586862e1\" class=\"colab-df-container\">\n",
              "    <div>\n",
              "<style scoped>\n",
              "    .dataframe tbody tr th:only-of-type {\n",
              "        vertical-align: middle;\n",
              "    }\n",
              "\n",
              "    .dataframe tbody tr th {\n",
              "        vertical-align: top;\n",
              "    }\n",
              "\n",
              "    .dataframe thead th {\n",
              "        text-align: right;\n",
              "    }\n",
              "</style>\n",
              "<table border=\"1\" class=\"dataframe\">\n",
              "  <thead>\n",
              "    <tr style=\"text-align: right;\">\n",
              "      <th></th>\n",
              "      <th>insured_address_state</th>\n",
              "      <th>Industry Code</th>\n",
              "      <th>Category</th>\n",
              "      <th>input_gl_revenue</th>\n",
              "      <th>input_gl_employee</th>\n",
              "      <th>input_gl_gl_limit</th>\n",
              "      <th>input_gl_gl_deductible</th>\n",
              "      <th>input_property_bldg_limit</th>\n",
              "      <th>input_property_num_claims</th>\n",
              "      <th>input_property_town_grade</th>\n",
              "      <th>...</th>\n",
              "      <th>output_premium_bldg_premium</th>\n",
              "      <th>output_premium_flood_premium</th>\n",
              "      <th>output_premium_content_premium</th>\n",
              "      <th>output_premium_on_prem_gl_prem</th>\n",
              "      <th>output_premium_products_gl_prem</th>\n",
              "      <th>output_premium_business_interuption_prem</th>\n",
              "      <th>output_premium_total_total_prem</th>\n",
              "      <th>output_debug_sd_factor_bi</th>\n",
              "      <th>output_debug_sd_factor_gl</th>\n",
              "      <th>output_debug_sd_factor_prop</th>\n",
              "    </tr>\n",
              "  </thead>\n",
              "  <tbody>\n",
              "    <tr>\n",
              "      <th>0</th>\n",
              "      <td>Ontario</td>\n",
              "      <td>5312</td>\n",
              "      <td>Retail</td>\n",
              "      <td>1000000</td>\n",
              "      <td>26</td>\n",
              "      <td>2000000</td>\n",
              "      <td>1000</td>\n",
              "      <td>0</td>\n",
              "      <td>0</td>\n",
              "      <td>3</td>\n",
              "      <td>...</td>\n",
              "      <td>0</td>\n",
              "      <td>0.00</td>\n",
              "      <td>430.56</td>\n",
              "      <td>2668.00</td>\n",
              "      <td>0.0</td>\n",
              "      <td>430.56</td>\n",
              "      <td>4618.39</td>\n",
              "      <td>1.0</td>\n",
              "      <td>1.0</td>\n",
              "      <td>1.0</td>\n",
              "    </tr>\n",
              "    <tr>\n",
              "      <th>1</th>\n",
              "      <td>Ontario</td>\n",
              "      <td>5312</td>\n",
              "      <td>Retail</td>\n",
              "      <td>350000</td>\n",
              "      <td>26</td>\n",
              "      <td>2000000</td>\n",
              "      <td>1000</td>\n",
              "      <td>0</td>\n",
              "      <td>0</td>\n",
              "      <td>3</td>\n",
              "      <td>...</td>\n",
              "      <td>0</td>\n",
              "      <td>0.00</td>\n",
              "      <td>1257.24</td>\n",
              "      <td>933.80</td>\n",
              "      <td>0.0</td>\n",
              "      <td>110.01</td>\n",
              "      <td>3666.13</td>\n",
              "      <td>1.0</td>\n",
              "      <td>1.0</td>\n",
              "      <td>1.0</td>\n",
              "    </tr>\n",
              "    <tr>\n",
              "      <th>2</th>\n",
              "      <td>Ontario</td>\n",
              "      <td>5811</td>\n",
              "      <td>Hospitality</td>\n",
              "      <td>333333</td>\n",
              "      <td>1</td>\n",
              "      <td>1000000</td>\n",
              "      <td>1000</td>\n",
              "      <td>0</td>\n",
              "      <td>0</td>\n",
              "      <td>3</td>\n",
              "      <td>...</td>\n",
              "      <td>0</td>\n",
              "      <td>3.17</td>\n",
              "      <td>249.33</td>\n",
              "      <td>1866.66</td>\n",
              "      <td>0.0</td>\n",
              "      <td>831.10</td>\n",
              "      <td>3054.95</td>\n",
              "      <td>1.0</td>\n",
              "      <td>1.0</td>\n",
              "      <td>1.0</td>\n",
              "    </tr>\n",
              "    <tr>\n",
              "      <th>3</th>\n",
              "      <td>Ontario</td>\n",
              "      <td>5811</td>\n",
              "      <td>Hospitality</td>\n",
              "      <td>300000</td>\n",
              "      <td>1</td>\n",
              "      <td>2000000</td>\n",
              "      <td>1000</td>\n",
              "      <td>0</td>\n",
              "      <td>0</td>\n",
              "      <td>4</td>\n",
              "      <td>...</td>\n",
              "      <td>0</td>\n",
              "      <td>0.00</td>\n",
              "      <td>249.33</td>\n",
              "      <td>1932.00</td>\n",
              "      <td>0.0</td>\n",
              "      <td>747.99</td>\n",
              "      <td>3033.94</td>\n",
              "      <td>1.0</td>\n",
              "      <td>1.0</td>\n",
              "      <td>1.0</td>\n",
              "    </tr>\n",
              "    <tr>\n",
              "      <th>4</th>\n",
              "      <td>Ontario</td>\n",
              "      <td>5811</td>\n",
              "      <td>Hospitality</td>\n",
              "      <td>300000</td>\n",
              "      <td>2</td>\n",
              "      <td>2000000</td>\n",
              "      <td>1000</td>\n",
              "      <td>0</td>\n",
              "      <td>0</td>\n",
              "      <td>3</td>\n",
              "      <td>...</td>\n",
              "      <td>0</td>\n",
              "      <td>0.00</td>\n",
              "      <td>223.40</td>\n",
              "      <td>1932.00</td>\n",
              "      <td>0.0</td>\n",
              "      <td>239.36</td>\n",
              "      <td>2575.83</td>\n",
              "      <td>1.0</td>\n",
              "      <td>1.0</td>\n",
              "      <td>1.0</td>\n",
              "    </tr>\n",
              "  </tbody>\n",
              "</table>\n",
              "<p>5 rows × 27 columns</p>\n",
              "</div>\n",
              "    <div class=\"colab-df-buttons\">\n",
              "\n",
              "  <div class=\"colab-df-container\">\n",
              "    <button class=\"colab-df-convert\" onclick=\"convertToInteractive('df-82abd244-c5e5-4ea4-971b-a936586862e1')\"\n",
              "            title=\"Convert this dataframe to an interactive table.\"\n",
              "            style=\"display:none;\">\n",
              "\n",
              "  <svg xmlns=\"http://www.w3.org/2000/svg\" height=\"24px\" viewBox=\"0 -960 960 960\">\n",
              "    <path d=\"M120-120v-720h720v720H120Zm60-500h600v-160H180v160Zm220 220h160v-160H400v160Zm0 220h160v-160H400v160ZM180-400h160v-160H180v160Zm440 0h160v-160H620v160ZM180-180h160v-160H180v160Zm440 0h160v-160H620v160Z\"/>\n",
              "  </svg>\n",
              "    </button>\n",
              "\n",
              "  <style>\n",
              "    .colab-df-container {\n",
              "      display:flex;\n",
              "      gap: 12px;\n",
              "    }\n",
              "\n",
              "    .colab-df-convert {\n",
              "      background-color: #E8F0FE;\n",
              "      border: none;\n",
              "      border-radius: 50%;\n",
              "      cursor: pointer;\n",
              "      display: none;\n",
              "      fill: #1967D2;\n",
              "      height: 32px;\n",
              "      padding: 0 0 0 0;\n",
              "      width: 32px;\n",
              "    }\n",
              "\n",
              "    .colab-df-convert:hover {\n",
              "      background-color: #E2EBFA;\n",
              "      box-shadow: 0px 1px 2px rgba(60, 64, 67, 0.3), 0px 1px 3px 1px rgba(60, 64, 67, 0.15);\n",
              "      fill: #174EA6;\n",
              "    }\n",
              "\n",
              "    .colab-df-buttons div {\n",
              "      margin-bottom: 4px;\n",
              "    }\n",
              "\n",
              "    [theme=dark] .colab-df-convert {\n",
              "      background-color: #3B4455;\n",
              "      fill: #D2E3FC;\n",
              "    }\n",
              "\n",
              "    [theme=dark] .colab-df-convert:hover {\n",
              "      background-color: #434B5C;\n",
              "      box-shadow: 0px 1px 3px 1px rgba(0, 0, 0, 0.15);\n",
              "      filter: drop-shadow(0px 1px 2px rgba(0, 0, 0, 0.3));\n",
              "      fill: #FFFFFF;\n",
              "    }\n",
              "  </style>\n",
              "\n",
              "    <script>\n",
              "      const buttonEl =\n",
              "        document.querySelector('#df-82abd244-c5e5-4ea4-971b-a936586862e1 button.colab-df-convert');\n",
              "      buttonEl.style.display =\n",
              "        google.colab.kernel.accessAllowed ? 'block' : 'none';\n",
              "\n",
              "      async function convertToInteractive(key) {\n",
              "        const element = document.querySelector('#df-82abd244-c5e5-4ea4-971b-a936586862e1');\n",
              "        const dataTable =\n",
              "          await google.colab.kernel.invokeFunction('convertToInteractive',\n",
              "                                                    [key], {});\n",
              "        if (!dataTable) return;\n",
              "\n",
              "        const docLinkHtml = 'Like what you see? Visit the ' +\n",
              "          '<a target=\"_blank\" href=https://colab.research.google.com/notebooks/data_table.ipynb>data table notebook</a>'\n",
              "          + ' to learn more about interactive tables.';\n",
              "        element.innerHTML = '';\n",
              "        dataTable['output_type'] = 'display_data';\n",
              "        await google.colab.output.renderOutput(dataTable, element);\n",
              "        const docLink = document.createElement('div');\n",
              "        docLink.innerHTML = docLinkHtml;\n",
              "        element.appendChild(docLink);\n",
              "      }\n",
              "    </script>\n",
              "  </div>\n",
              "\n",
              "\n",
              "<div id=\"df-fe2a3661-7af9-49b7-bb5e-22c67a5eafcd\">\n",
              "  <button class=\"colab-df-quickchart\" onclick=\"quickchart('df-fe2a3661-7af9-49b7-bb5e-22c67a5eafcd')\"\n",
              "            title=\"Suggest charts\"\n",
              "            style=\"display:none;\">\n",
              "\n",
              "<svg xmlns=\"http://www.w3.org/2000/svg\" height=\"24px\"viewBox=\"0 0 24 24\"\n",
              "     width=\"24px\">\n",
              "    <g>\n",
              "        <path d=\"M19 3H5c-1.1 0-2 .9-2 2v14c0 1.1.9 2 2 2h14c1.1 0 2-.9 2-2V5c0-1.1-.9-2-2-2zM9 17H7v-7h2v7zm4 0h-2V7h2v10zm4 0h-2v-4h2v4z\"/>\n",
              "    </g>\n",
              "</svg>\n",
              "  </button>\n",
              "\n",
              "<style>\n",
              "  .colab-df-quickchart {\n",
              "      --bg-color: #E8F0FE;\n",
              "      --fill-color: #1967D2;\n",
              "      --hover-bg-color: #E2EBFA;\n",
              "      --hover-fill-color: #174EA6;\n",
              "      --disabled-fill-color: #AAA;\n",
              "      --disabled-bg-color: #DDD;\n",
              "  }\n",
              "\n",
              "  [theme=dark] .colab-df-quickchart {\n",
              "      --bg-color: #3B4455;\n",
              "      --fill-color: #D2E3FC;\n",
              "      --hover-bg-color: #434B5C;\n",
              "      --hover-fill-color: #FFFFFF;\n",
              "      --disabled-bg-color: #3B4455;\n",
              "      --disabled-fill-color: #666;\n",
              "  }\n",
              "\n",
              "  .colab-df-quickchart {\n",
              "    background-color: var(--bg-color);\n",
              "    border: none;\n",
              "    border-radius: 50%;\n",
              "    cursor: pointer;\n",
              "    display: none;\n",
              "    fill: var(--fill-color);\n",
              "    height: 32px;\n",
              "    padding: 0;\n",
              "    width: 32px;\n",
              "  }\n",
              "\n",
              "  .colab-df-quickchart:hover {\n",
              "    background-color: var(--hover-bg-color);\n",
              "    box-shadow: 0 1px 2px rgba(60, 64, 67, 0.3), 0 1px 3px 1px rgba(60, 64, 67, 0.15);\n",
              "    fill: var(--button-hover-fill-color);\n",
              "  }\n",
              "\n",
              "  .colab-df-quickchart-complete:disabled,\n",
              "  .colab-df-quickchart-complete:disabled:hover {\n",
              "    background-color: var(--disabled-bg-color);\n",
              "    fill: var(--disabled-fill-color);\n",
              "    box-shadow: none;\n",
              "  }\n",
              "\n",
              "  .colab-df-spinner {\n",
              "    border: 2px solid var(--fill-color);\n",
              "    border-color: transparent;\n",
              "    border-bottom-color: var(--fill-color);\n",
              "    animation:\n",
              "      spin 1s steps(1) infinite;\n",
              "  }\n",
              "\n",
              "  @keyframes spin {\n",
              "    0% {\n",
              "      border-color: transparent;\n",
              "      border-bottom-color: var(--fill-color);\n",
              "      border-left-color: var(--fill-color);\n",
              "    }\n",
              "    20% {\n",
              "      border-color: transparent;\n",
              "      border-left-color: var(--fill-color);\n",
              "      border-top-color: var(--fill-color);\n",
              "    }\n",
              "    30% {\n",
              "      border-color: transparent;\n",
              "      border-left-color: var(--fill-color);\n",
              "      border-top-color: var(--fill-color);\n",
              "      border-right-color: var(--fill-color);\n",
              "    }\n",
              "    40% {\n",
              "      border-color: transparent;\n",
              "      border-right-color: var(--fill-color);\n",
              "      border-top-color: var(--fill-color);\n",
              "    }\n",
              "    60% {\n",
              "      border-color: transparent;\n",
              "      border-right-color: var(--fill-color);\n",
              "    }\n",
              "    80% {\n",
              "      border-color: transparent;\n",
              "      border-right-color: var(--fill-color);\n",
              "      border-bottom-color: var(--fill-color);\n",
              "    }\n",
              "    90% {\n",
              "      border-color: transparent;\n",
              "      border-bottom-color: var(--fill-color);\n",
              "    }\n",
              "  }\n",
              "</style>\n",
              "\n",
              "  <script>\n",
              "    async function quickchart(key) {\n",
              "      const quickchartButtonEl =\n",
              "        document.querySelector('#' + key + ' button');\n",
              "      quickchartButtonEl.disabled = true;  // To prevent multiple clicks.\n",
              "      quickchartButtonEl.classList.add('colab-df-spinner');\n",
              "      try {\n",
              "        const charts = await google.colab.kernel.invokeFunction(\n",
              "            'suggestCharts', [key], {});\n",
              "      } catch (error) {\n",
              "        console.error('Error during call to suggestCharts:', error);\n",
              "      }\n",
              "      quickchartButtonEl.classList.remove('colab-df-spinner');\n",
              "      quickchartButtonEl.classList.add('colab-df-quickchart-complete');\n",
              "    }\n",
              "    (() => {\n",
              "      let quickchartButtonEl =\n",
              "        document.querySelector('#df-fe2a3661-7af9-49b7-bb5e-22c67a5eafcd button');\n",
              "      quickchartButtonEl.style.display =\n",
              "        google.colab.kernel.accessAllowed ? 'block' : 'none';\n",
              "    })();\n",
              "  </script>\n",
              "</div>\n",
              "\n",
              "    </div>\n",
              "  </div>\n"
            ],
            "application/vnd.google.colaboratory.intrinsic+json": {
              "type": "dataframe",
              "variable_name": "df"
            }
          },
          "metadata": {},
          "execution_count": 4
        }
      ]
    },
    {
      "cell_type": "markdown",
      "source": [
        "## Step 3: Rename 'Industry Code' Column\n",
        "We rename 'Industry Code' to 'industry_code' for naming consistency and ease of use in pandas."
      ],
      "metadata": {
        "id": "I2YUVCQCzD_l"
      }
    },
    {
      "cell_type": "code",
      "source": [
        "df = df.rename(columns={'Industry Code': 'industry_code'})"
      ],
      "metadata": {
        "id": "IwoLwAH_zE2z"
      },
      "execution_count": 5,
      "outputs": []
    },
    {
      "cell_type": "markdown",
      "source": [
        "## Step 4: Fix Province Spelling\n",
        "Standardize the spelling of province names. Specifically, replace 'Québec' with 'Quebec'."
      ],
      "metadata": {
        "id": "DSKCl76MzgiN"
      }
    },
    {
      "cell_type": "code",
      "source": [
        "df['insured_address_state'] = df['insured_address_state'].replace('Québec', 'Quebec')"
      ],
      "metadata": {
        "id": "x9CazC1xzrF3"
      },
      "execution_count": 6,
      "outputs": []
    },
    {
      "cell_type": "markdown",
      "source": [
        "## Step 5: Clean the 'Category' Column\n",
        "We clean and standardize values in the 'Category' column by mapping abbreviations to their full descriptions and stripping whitespace."
      ],
      "metadata": {
        "id": "wzYR69Wpz0nP"
      }
    },
    {
      "cell_type": "code",
      "source": [
        "category_clean_map = {\n",
        "    'Health Serv.': 'Health Services',\n",
        "    'B&P Services': 'Business & Personal Services',\n",
        "    'Hospitality': 'Hospitality',\n",
        "    'Retail': 'Retail',\n",
        "    'Wholesale': 'Wholesale'\n",
        "}\n",
        "df['Category'] = df['Category'].str.strip().map(category_clean_map)"
      ],
      "metadata": {
        "id": "7OdOMpWtz1wy"
      },
      "execution_count": 7,
      "outputs": []
    },
    {
      "cell_type": "markdown",
      "source": [
        "## Step 6: Handle Missing Values\n",
        "Per stakeholder direction, we treat all missing numeric values (e.g., premiums) as 0."
      ],
      "metadata": {
        "id": "YXe-1cKrz_mz"
      }
    },
    {
      "cell_type": "code",
      "source": [
        "df = df.fillna(0)"
      ],
      "metadata": {
        "id": "quKnTCP10EQx"
      },
      "execution_count": 8,
      "outputs": []
    },
    {
      "cell_type": "markdown",
      "source": [
        "## Step 7: Export the Cleaned Dataset\n",
        "We save the cleaned dataset back to Google Drive."
      ],
      "metadata": {
        "id": "lcfOmfu10O0c"
      }
    },
    {
      "cell_type": "code",
      "source": [
        "output_path = '/content/drive/My Drive/TripleTen/Externship -- Supernova/cleaned_supernova_data_final.csv'\n",
        "df.to_csv(output_path, index=False)\n",
        "print(\"Cleaned dataset exported successfully.\")"
      ],
      "metadata": {
        "colab": {
          "base_uri": "https://localhost:8080/"
        },
        "id": "8qtJ4fWd0TPw",
        "outputId": "3613ddb3-83ea-4918-fd05-6bf6fbc46634"
      },
      "execution_count": 9,
      "outputs": [
        {
          "output_type": "stream",
          "name": "stdout",
          "text": [
            "Cleaned dataset exported successfully.\n"
          ]
        }
      ]
    }
  ]
}